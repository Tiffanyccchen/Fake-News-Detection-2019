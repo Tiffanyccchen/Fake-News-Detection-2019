{
 "cells": [
  {
   "cell_type": "code",
   "execution_count": 17,
   "metadata": {},
   "outputs": [],
   "source": [
    "import numpy as np\n",
    "import pandas as pd\n",
    "import matplotlib.pyplot as plt\n",
    "import seaborn as sns\n",
    "import ast\n",
    "%matplotlib inline\n",
    "data = pd.read_csv(\"datasplattrs.csv\", encoding=\"UTF-8\")"
   ]
  },
  {
   "cell_type": "code",
   "execution_count": 18,
   "metadata": {},
   "outputs": [],
   "source": [
    "#Transform Strings to Lists (when we read csv data in, the lists become strings)\n",
    "data['title1_tokenized']=data['title1_tokenized'].apply(ast.literal_eval)\n",
    "data['title2_tokenized']=data['title2_tokenized'].apply(ast.literal_eval)\n",
    "data['title1_nonumner']=data['title1_nonumner'].apply(ast.literal_eval)\n",
    "data['title2_nonumner']=data['title2_nonumner'].apply(ast.literal_eval)"
   ]
  },
  {
   "cell_type": "code",
   "execution_count": 20,
   "metadata": {},
   "outputs": [],
   "source": [
    "#Retain columns we need\n",
    "cols =['title1_zh',\n",
    " 'title2_zh',\n",
    " 'title1_tokenized',\n",
    " 'title2_tokenized',\n",
    " 'title1_ner',\n",
    " 'title2_ner',\n",
    " 'title1_nonumner',\n",
    " 'title2_nonumner',\n",
    " 'lenword',\n",
    " 'lenchar',\n",
    " 'wordmatch',\n",
    " 'hypextra',\n",
    " 'nerwordmatch',\n",
    " 'nerhypextra',\n",
    "       'iskey',\n",
    "       'label']\n",
    "data=data[cols]"
   ]
  },
  {
   "cell_type": "code",
   "execution_count": 21,
   "metadata": {},
   "outputs": [
    {
     "data": {
      "text/plain": [
       "['警方', '辟谣', '鸟巢', '大会', '每人', '领', '5万', '', '', '老人', '坚持', '进', '京']"
      ]
     },
     "execution_count": 21,
     "metadata": {},
     "output_type": "execute_result"
    }
   ],
   "source": [
    "data.loc[0,'title2_tokenized']"
   ]
  },
  {
   "cell_type": "code",
   "execution_count": 22,
   "metadata": {},
   "outputs": [
    {
     "data": {
      "text/html": [
       "<div>\n",
       "<style scoped>\n",
       "    .dataframe tbody tr th:only-of-type {\n",
       "        vertical-align: middle;\n",
       "    }\n",
       "\n",
       "    .dataframe tbody tr th {\n",
       "        vertical-align: top;\n",
       "    }\n",
       "\n",
       "    .dataframe thead th {\n",
       "        text-align: right;\n",
       "    }\n",
       "</style>\n",
       "<table border=\"1\" class=\"dataframe\">\n",
       "  <thead>\n",
       "    <tr style=\"text-align: right;\">\n",
       "      <th></th>\n",
       "      <th>title1_zh</th>\n",
       "      <th>title2_zh</th>\n",
       "      <th>title1_tokenized</th>\n",
       "      <th>title2_tokenized</th>\n",
       "      <th>title1_ner</th>\n",
       "      <th>title2_ner</th>\n",
       "      <th>title1_nonumner</th>\n",
       "      <th>title2_nonumner</th>\n",
       "      <th>lenword</th>\n",
       "      <th>lenchar</th>\n",
       "      <th>wordmatch</th>\n",
       "      <th>hypextra</th>\n",
       "      <th>nerwordmatch</th>\n",
       "      <th>nerhypextra</th>\n",
       "      <th>iskey</th>\n",
       "      <th>label</th>\n",
       "    </tr>\n",
       "  </thead>\n",
       "  <tbody>\n",
       "    <tr>\n",
       "      <th>0</th>\n",
       "      <td>2017养老保险又新增两项，农村老人人人可申领，你领到了吗</td>\n",
       "      <td>警方辟谣“鸟巢大会每人领5万” 仍有老人坚持进京</td>\n",
       "      <td>[2017, 养老, 保险, 新增, 两, 项, 农村, 老人, 人人, 申领, 领到]</td>\n",
       "      <td>[警方, 辟谣, 鸟巢, 大会, 每人, 领, 5万, , , 老人, 坚持, 进, 京]</td>\n",
       "      <td>[[]]</td>\n",
       "      <td>[[(23, 25, 'company', '京')]]</td>\n",
       "      <td>[]</td>\n",
       "      <td>[(company, 京)]</td>\n",
       "      <td>2</td>\n",
       "      <td>6</td>\n",
       "      <td>1</td>\n",
       "      <td>12</td>\n",
       "      <td>0</td>\n",
       "      <td>1</td>\n",
       "      <td>2</td>\n",
       "      <td>unrelated</td>\n",
       "    </tr>\n",
       "    <tr>\n",
       "      <th>1</th>\n",
       "      <td>\"你不来深圳，早晚你儿子也要来\"，不出10年深圳人均GDP将超香港</td>\n",
       "      <td>深圳GDP首超香港？深圳统计局辟谣：只是差距在缩小</td>\n",
       "      <td>[深圳, 早晚, 儿子, 出, 10, 年, 深圳, 人均, GDP, 超, 香港]</td>\n",
       "      <td>[深圳, GDP, 首, 超, 香港, 深圳, 统计局, 辟谣, 差距, 缩小]</td>\n",
       "      <td>[[(4, 7, 'location', '深圳'), (19, 23, 'time', '...</td>\n",
       "      <td>[[(0, 3, 'location', '深圳'), (7, 10, 'location'...</td>\n",
       "      <td>[(location, 深圳), (time, 10年), (location, 深圳), ...</td>\n",
       "      <td>[(location, 深圳), (location, 香港), (org, 深圳统计局)]</td>\n",
       "      <td>1</td>\n",
       "      <td>8</td>\n",
       "      <td>5</td>\n",
       "      <td>5</td>\n",
       "      <td>2</td>\n",
       "      <td>2</td>\n",
       "      <td>1</td>\n",
       "      <td>unrelated</td>\n",
       "    </tr>\n",
       "    <tr>\n",
       "      <th>2</th>\n",
       "      <td>\"你不来深圳，早晚你儿子也要来\"，不出10年深圳人均GDP将超香港</td>\n",
       "      <td>GDP首超香港？深圳澄清：还差一点点……</td>\n",
       "      <td>[深圳, 早晚, 儿子, 出, 10, 年, 深圳, 人均, GDP, 超, 香港]</td>\n",
       "      <td>[GDP, 首, 超, 香港, 深圳, 澄清, 差, 一点点]</td>\n",
       "      <td>[[(4, 7, 'location', '深圳'), (19, 23, 'time', '...</td>\n",
       "      <td>[[(5, 8, 'location', '香港'), (8, 11, 'location'...</td>\n",
       "      <td>[(location, 深圳), (time, 10年), (location, 深圳), ...</td>\n",
       "      <td>[(location, 香港), (location, 深圳)]</td>\n",
       "      <td>3</td>\n",
       "      <td>13</td>\n",
       "      <td>5</td>\n",
       "      <td>4</td>\n",
       "      <td>2</td>\n",
       "      <td>1</td>\n",
       "      <td>0</td>\n",
       "      <td>unrelated</td>\n",
       "    </tr>\n",
       "    <tr>\n",
       "      <th>3</th>\n",
       "      <td>\"你不来深圳，早晚你儿子也要来\"，不出10年深圳人均GDP将超香港</td>\n",
       "      <td>去年深圳GDP首超香港？深圳统计局辟谣：还差611亿</td>\n",
       "      <td>[深圳, 早晚, 儿子, 出, 10, 年, 深圳, 人均, GDP, 超, 香港]</td>\n",
       "      <td>[去年, 深圳, GDP, 首, 超, 香港, 深圳, 统计局, 辟谣, 差, 611亿]</td>\n",
       "      <td>[[(4, 7, 'location', '深圳'), (19, 23, 'time', '...</td>\n",
       "      <td>[[(0, 3, 'time', '去年'), (2, 5, 'location', '深圳...</td>\n",
       "      <td>[(location, 深圳), (time, 10年), (location, 深圳), ...</td>\n",
       "      <td>[(time, 去年), (location, 深圳), (location, 香港), (...</td>\n",
       "      <td>0</td>\n",
       "      <td>7</td>\n",
       "      <td>5</td>\n",
       "      <td>6</td>\n",
       "      <td>2</td>\n",
       "      <td>3</td>\n",
       "      <td>1</td>\n",
       "      <td>unrelated</td>\n",
       "    </tr>\n",
       "    <tr>\n",
       "      <th>4</th>\n",
       "      <td>\"用大蒜鉴别地沟油的方法,怎么鉴别地沟油</td>\n",
       "      <td>吃了30年食用油才知道，一片大蒜轻松鉴别地沟油</td>\n",
       "      <td>[大蒜, 鉴别, 地沟油, 方法, 鉴别, 地沟油]</td>\n",
       "      <td>[吃, 30, 年, 食用油, 知道, 片, 大蒜, 轻松, 鉴别, 地沟油]</td>\n",
       "      <td>[[]]</td>\n",
       "      <td>[[(2, 6, 'time', '30年')]]</td>\n",
       "      <td>[]</td>\n",
       "      <td>[(time, 30年)]</td>\n",
       "      <td>4</td>\n",
       "      <td>3</td>\n",
       "      <td>5</td>\n",
       "      <td>7</td>\n",
       "      <td>0</td>\n",
       "      <td>1</td>\n",
       "      <td>0</td>\n",
       "      <td>agreed</td>\n",
       "    </tr>\n",
       "  </tbody>\n",
       "</table>\n",
       "</div>"
      ],
      "text/plain": [
       "                           title1_zh                   title2_zh  \\\n",
       "0      2017养老保险又新增两项，农村老人人人可申领，你领到了吗    警方辟谣“鸟巢大会每人领5万” 仍有老人坚持进京   \n",
       "1  \"你不来深圳，早晚你儿子也要来\"，不出10年深圳人均GDP将超香港   深圳GDP首超香港？深圳统计局辟谣：只是差距在缩小   \n",
       "2  \"你不来深圳，早晚你儿子也要来\"，不出10年深圳人均GDP将超香港        GDP首超香港？深圳澄清：还差一点点……   \n",
       "3  \"你不来深圳，早晚你儿子也要来\"，不出10年深圳人均GDP将超香港  去年深圳GDP首超香港？深圳统计局辟谣：还差611亿   \n",
       "4               \"用大蒜鉴别地沟油的方法,怎么鉴别地沟油     吃了30年食用油才知道，一片大蒜轻松鉴别地沟油   \n",
       "\n",
       "                               title1_tokenized  \\\n",
       "0  [2017, 养老, 保险, 新增, 两, 项, 农村, 老人, 人人, 申领, 领到]   \n",
       "1    [深圳, 早晚, 儿子, 出, 10, 年, 深圳, 人均, GDP, 超, 香港]   \n",
       "2    [深圳, 早晚, 儿子, 出, 10, 年, 深圳, 人均, GDP, 超, 香港]   \n",
       "3    [深圳, 早晚, 儿子, 出, 10, 年, 深圳, 人均, GDP, 超, 香港]   \n",
       "4                    [大蒜, 鉴别, 地沟油, 方法, 鉴别, 地沟油]   \n",
       "\n",
       "                                title2_tokenized  \\\n",
       "0  [警方, 辟谣, 鸟巢, 大会, 每人, 领, 5万, , , 老人, 坚持, 进, 京]   \n",
       "1       [深圳, GDP, 首, 超, 香港, 深圳, 统计局, 辟谣, 差距, 缩小]   \n",
       "2                [GDP, 首, 超, 香港, 深圳, 澄清, 差, 一点点]   \n",
       "3  [去年, 深圳, GDP, 首, 超, 香港, 深圳, 统计局, 辟谣, 差, 611亿]   \n",
       "4        [吃, 30, 年, 食用油, 知道, 片, 大蒜, 轻松, 鉴别, 地沟油]   \n",
       "\n",
       "                                          title1_ner  \\\n",
       "0                                               [[]]   \n",
       "1  [[(4, 7, 'location', '深圳'), (19, 23, 'time', '...   \n",
       "2  [[(4, 7, 'location', '深圳'), (19, 23, 'time', '...   \n",
       "3  [[(4, 7, 'location', '深圳'), (19, 23, 'time', '...   \n",
       "4                                               [[]]   \n",
       "\n",
       "                                          title2_ner  \\\n",
       "0                       [[(23, 25, 'company', '京')]]   \n",
       "1  [[(0, 3, 'location', '深圳'), (7, 10, 'location'...   \n",
       "2  [[(5, 8, 'location', '香港'), (8, 11, 'location'...   \n",
       "3  [[(0, 3, 'time', '去年'), (2, 5, 'location', '深圳...   \n",
       "4                          [[(2, 6, 'time', '30年')]]   \n",
       "\n",
       "                                     title1_nonumner  \\\n",
       "0                                                 []   \n",
       "1  [(location, 深圳), (time, 10年), (location, 深圳), ...   \n",
       "2  [(location, 深圳), (time, 10年), (location, 深圳), ...   \n",
       "3  [(location, 深圳), (time, 10年), (location, 深圳), ...   \n",
       "4                                                 []   \n",
       "\n",
       "                                     title2_nonumner  lenword  lenchar  \\\n",
       "0                                     [(company, 京)]        2        6   \n",
       "1     [(location, 深圳), (location, 香港), (org, 深圳统计局)]        1        8   \n",
       "2                   [(location, 香港), (location, 深圳)]        3       13   \n",
       "3  [(time, 去年), (location, 深圳), (location, 香港), (...        0        7   \n",
       "4                                      [(time, 30年)]        4        3   \n",
       "\n",
       "   wordmatch  hypextra  nerwordmatch  nerhypextra  iskey      label  \n",
       "0          1        12             0            1      2  unrelated  \n",
       "1          5         5             2            2      1  unrelated  \n",
       "2          5         4             2            1      0  unrelated  \n",
       "3          5         6             2            3      1  unrelated  \n",
       "4          5         7             0            1      0     agreed  "
      ]
     },
     "execution_count": 22,
     "metadata": {},
     "output_type": "execute_result"
    }
   ],
   "source": [
    "data.head()"
   ]
  },
  {
   "cell_type": "code",
   "execution_count": 23,
   "metadata": {},
   "outputs": [
    {
     "data": {
      "text/plain": [
       "(320552, 16)"
      ]
     },
     "execution_count": 23,
     "metadata": {},
     "output_type": "execute_result"
    }
   ],
   "source": [
    "data.shape"
   ]
  },
  {
   "cell_type": "code",
   "execution_count": 24,
   "metadata": {},
   "outputs": [
    {
     "data": {
      "text/plain": [
       "unrelated    219313\n",
       "agreed        92973\n",
       "disagreed      8266\n",
       "Name: label, dtype: int64"
      ]
     },
     "execution_count": 24,
     "metadata": {},
     "output_type": "execute_result"
    }
   ],
   "source": [
    "data.label.value_counts()"
   ]
  },
  {
   "cell_type": "code",
   "execution_count": 29,
   "metadata": {},
   "outputs": [],
   "source": [
    "perct=list(data['label'].value_counts()/len(data))"
   ]
  },
  {
   "cell_type": "code",
   "execution_count": 42,
   "metadata": {},
   "outputs": [
    {
     "data": {
      "text/plain": [
       "0.68417292670144"
      ]
     },
     "execution_count": 42,
     "metadata": {},
     "output_type": "execute_result"
    }
   ],
   "source": [
    "perct[0]"
   ]
  },
  {
   "cell_type": "code",
   "execution_count": 27,
   "metadata": {},
   "outputs": [
    {
     "name": "stdout",
     "output_type": "stream",
     "text": [
      "{'unrelated': 0, 'disagreed': 1, 'agreed': 2}\n"
     ]
    }
   ],
   "source": [
    "#Prepare Training Data\n",
    "x_train=data[['lenword','lenchar','wordmatch','hypextra','nerwordmatch','nerhypextra','iskey']]\n",
    "\n",
    "maplabeltonum = dict(zip(set(data['label']), range(len(data['label']))))\n",
    "print(maplabeltonum)\n",
    "\n",
    "y_train=[maplabeltonum[x] for x in data['label']]"
   ]
  },
  {
   "cell_type": "code",
   "execution_count": 28,
   "metadata": {},
   "outputs": [],
   "source": [
    "from sklearn.model_selection import train_test_split\n",
    "X_train, X_val, y_train, y_val= train_test_split(x_train, y_train, test_size=0.20,random_state=101)"
   ]
  },
  {
   "cell_type": "code",
   "execution_count": 43,
   "metadata": {},
   "outputs": [],
   "source": [
    "def classify(array):\n",
    "    ls=[]\n",
    "    for row in array:\n",
    "        row=[row[0]/perct[0], row[1]/perct[2], row[2]/perct[1]]\n",
    "        ls.append(row.index(max(row)))\n",
    "    return ls"
   ]
  },
  {
   "cell_type": "code",
   "execution_count": 44,
   "metadata": {},
   "outputs": [
    {
     "data": {
      "text/plain": [
       "{0: 'unrelated', 1: 'disagreed', 2: 'agreed'}"
      ]
     },
     "execution_count": 44,
     "metadata": {},
     "output_type": "execute_result"
    }
   ],
   "source": [
    "mapnumtolabel = dict(zip(range(len(data['label'])),set(data['label'])))\n",
    "mapnumtolabel "
   ]
  },
  {
   "cell_type": "code",
   "execution_count": null,
   "metadata": {},
   "outputs": [],
   "source": [
    "y_val=[mapnumtolabel[x] for x in y_val]"
   ]
  },
  {
   "cell_type": "code",
   "execution_count": 131,
   "metadata": {},
   "outputs": [],
   "source": [
    "from sklearn.metrics import classification_report,confusion_matrix,accuracy_score"
   ]
  },
  {
   "cell_type": "code",
   "execution_count": 132,
   "metadata": {},
   "outputs": [],
   "source": [
    "#In the final classification decision,divide each category's probability by its proportion in training data\n",
    "def weaccuracy(true,mat,perct):\n",
    "    unrelated=mat[0][0]/len(true)\n",
    "    disagreed=mat[1][1]/len(true)\n",
    "    agreed=mat[2][2]/len(true)\n",
    "    return (1/16*unrelated+1/5*disagreed+1/15*agreed)/(1/16*perct[0]+1/5*perct[2]+1/15*perct[1])"
   ]
  },
  {
   "cell_type": "markdown",
   "metadata": {},
   "source": [
    "## XGboost Classifier"
   ]
  },
  {
   "cell_type": "code",
   "execution_count": 34,
   "metadata": {},
   "outputs": [],
   "source": [
    "import xgboost as xgb"
   ]
  },
  {
   "cell_type": "code",
   "execution_count": 35,
   "metadata": {},
   "outputs": [
    {
     "name": "stdout",
     "output_type": "stream",
     "text": [
      "[0]\ttrain-mlogloss:1.08192\tvalid-mlogloss:1.08198\n",
      "Multiple eval metrics have been passed: 'valid-mlogloss' will be used for early stopping.\n",
      "\n",
      "Will train until valid-mlogloss hasn't improved in 50 rounds.\n",
      "[10]\ttrain-mlogloss:0.942346\tvalid-mlogloss:0.942781\n",
      "[20]\ttrain-mlogloss:0.83888\tvalid-mlogloss:0.839588\n",
      "[30]\ttrain-mlogloss:0.760092\tvalid-mlogloss:0.76094\n",
      "[40]\ttrain-mlogloss:0.698966\tvalid-mlogloss:0.699877\n",
      "[50]\ttrain-mlogloss:0.650914\tvalid-mlogloss:0.651867\n",
      "[60]\ttrain-mlogloss:0.612625\tvalid-mlogloss:0.613614\n",
      "[70]\ttrain-mlogloss:0.581957\tvalid-mlogloss:0.582974\n",
      "[80]\ttrain-mlogloss:0.557296\tvalid-mlogloss:0.558347\n",
      "[90]\ttrain-mlogloss:0.537192\tvalid-mlogloss:0.538266\n",
      "[100]\ttrain-mlogloss:0.520748\tvalid-mlogloss:0.521829\n",
      "[110]\ttrain-mlogloss:0.507281\tvalid-mlogloss:0.508355\n",
      "[120]\ttrain-mlogloss:0.496214\tvalid-mlogloss:0.497262\n",
      "[130]\ttrain-mlogloss:0.487061\tvalid-mlogloss:0.488097\n",
      "[140]\ttrain-mlogloss:0.479417\tvalid-mlogloss:0.480444\n",
      "[150]\ttrain-mlogloss:0.473015\tvalid-mlogloss:0.474033\n",
      "[160]\ttrain-mlogloss:0.467612\tvalid-mlogloss:0.468633\n",
      "[170]\ttrain-mlogloss:0.462988\tvalid-mlogloss:0.464017\n",
      "[180]\ttrain-mlogloss:0.459057\tvalid-mlogloss:0.460104\n",
      "[190]\ttrain-mlogloss:0.455673\tvalid-mlogloss:0.456742\n",
      "[200]\ttrain-mlogloss:0.452806\tvalid-mlogloss:0.453885\n",
      "[210]\ttrain-mlogloss:0.450339\tvalid-mlogloss:0.451436\n",
      "[220]\ttrain-mlogloss:0.448215\tvalid-mlogloss:0.449331\n",
      "[230]\ttrain-mlogloss:0.446377\tvalid-mlogloss:0.447522\n",
      "[240]\ttrain-mlogloss:0.444769\tvalid-mlogloss:0.445934\n",
      "[250]\ttrain-mlogloss:0.443379\tvalid-mlogloss:0.444563\n",
      "[260]\ttrain-mlogloss:0.442188\tvalid-mlogloss:0.44339\n",
      "[270]\ttrain-mlogloss:0.441156\tvalid-mlogloss:0.442384\n",
      "[280]\ttrain-mlogloss:0.440247\tvalid-mlogloss:0.441509\n",
      "[290]\ttrain-mlogloss:0.439454\tvalid-mlogloss:0.440749\n",
      "[300]\ttrain-mlogloss:0.43876\tvalid-mlogloss:0.440085\n",
      "[310]\ttrain-mlogloss:0.438142\tvalid-mlogloss:0.439493\n",
      "[320]\ttrain-mlogloss:0.437602\tvalid-mlogloss:0.438975\n",
      "[330]\ttrain-mlogloss:0.437126\tvalid-mlogloss:0.438523\n",
      "[340]\ttrain-mlogloss:0.436712\tvalid-mlogloss:0.438132\n",
      "[350]\ttrain-mlogloss:0.436342\tvalid-mlogloss:0.437781\n",
      "[360]\ttrain-mlogloss:0.436005\tvalid-mlogloss:0.437468\n",
      "[370]\ttrain-mlogloss:0.435717\tvalid-mlogloss:0.437199\n",
      "[380]\ttrain-mlogloss:0.435461\tvalid-mlogloss:0.436966\n",
      "[390]\ttrain-mlogloss:0.43523\tvalid-mlogloss:0.436754\n",
      "[399]\ttrain-mlogloss:0.435046\tvalid-mlogloss:0.436591\n"
     ]
    }
   ],
   "source": [
    "# Set our parameters for XGboost\n",
    "params = {}\n",
    "params['objective'] = 'multi:softprob'\n",
    "params['eval_metric'] = 'mlogloss'\n",
    "params['eta'] = 0.02\n",
    "params['max_depth']=3\n",
    "params['num_class'] = 3\n",
    "params['base_score'] = 0.025\n",
    "\n",
    "d_train = xgb.DMatrix(X_train, label=y_train)\n",
    "d_valid = xgb.DMatrix(X_val, label=y_val)\n",
    "\n",
    "watchlist = [(d_train, 'train'), (d_valid, 'valid')]\n",
    "\n",
    "bst = xgb.train(params, d_train, 400, watchlist, early_stopping_rounds=50, verbose_eval=10)"
   ]
  },
  {
   "cell_type": "code",
   "execution_count": 36,
   "metadata": {},
   "outputs": [],
   "source": [
    "d_val = xgb.DMatrix(X_val)\n",
    "yprob = bst.predict(d_val)\n",
    "yprob=np.array(yprob)"
   ]
  },
  {
   "cell_type": "code",
   "execution_count": 38,
   "metadata": {},
   "outputs": [
    {
     "data": {
      "image/png": "[encoded data removed]",
      "text/plain": [
       "<Figure size 1584x576 with 1 Axes>"
      ]
     },
     "metadata": {},
     "output_type": "display_data"
    }
   ],
   "source": [
    "#Examine each feature's importance by criteria gain ratio\n",
    "fig, ax = plt.subplots(figsize=(22,8))\n",
    "xgb.plot_importance(bst, max_num_features=50, height=0.8, ax=ax,importance_type='gain')\n",
    "plt.show()"
   ]
  },
  {
   "cell_type": "code",
   "execution_count": 45,
   "metadata": {},
   "outputs": [
    {
     "name": "stdout",
     "output_type": "stream",
     "text": [
      "             precision    recall  f1-score   support\n",
      "\n",
      "     agreed       0.57      0.87      0.69     18707\n",
      "  disagreed       0.15      0.75      0.25      1682\n",
      "  unrelated       0.91      0.56      0.70     43722\n",
      "\n",
      "avg / total       0.79      0.66      0.68     64111\n",
      "\n",
      "[[16364    55  2288]\n",
      " [  230  1267   185]\n",
      " [12024  7007 24691]]\n"
     ]
    }
   ],
   "source": [
    "preddctree=[mapnumtolabel[x] for x in classify(yprob)]\n",
    "print(classification_report(y_val,preddctree))\n",
    "print(confusion_matrix(y_val,preddctree))"
   ]
  },
  {
   "cell_type": "code",
   "execution_count": 46,
   "metadata": {},
   "outputs": [
    {
     "data": {
      "text/plain": [
       "Text(0.5,257.44,'Predicted label')"
      ]
     },
     "execution_count": 46,
     "metadata": {},
     "output_type": "execute_result"
    },
    {
     "data": {
      "image/png": "[encoded data removed]",
      "text/plain": [
       "<Figure size 432x288 with 2 Axes>"
      ]
     },
     "metadata": {},
     "output_type": "display_data"
    }
   ],
   "source": [
    "fig, ax = plt.subplots()\n",
    "sns.heatmap(pd.DataFrame(confusion_matrix(y_val,preddctree)), annot=True, cmap=\"YlGnBu\" ,fmt='g')\n",
    "ax.xaxis.set_label_position(\"top\")\n",
    "ax.set_xticks([0.5,1.5,2.5])\n",
    "ax.set_yticks([0.5,1.5,2.5])\n",
    "# ... and label them with the respective list entries\n",
    "ax.set_xticklabels(['agreed','disagreed','unrelated'])\n",
    "ax.set_yticklabels(['agreed','disagreed','unrelated'])\n",
    "plt.tight_layout()\n",
    "plt.title('Confusion matrix', y=1.1)\n",
    "plt.ylabel('Actual label')\n",
    "plt.xlabel('Predicted label')"
   ]
  },
  {
   "cell_type": "code",
   "execution_count": 124,
   "metadata": {},
   "outputs": [
    {
     "name": "stdout",
     "output_type": "stream",
     "text": [
      "Accuracy: 66.01%\n",
      "Weighted Accuracy: 67.77%\n"
     ]
    }
   ],
   "source": [
    "accuracy = accuracy_score(y_val,preddctree)\n",
    "weightacc=weaccuracy(y_val,confusion_matrix(y_val,preddctree),perct)\n",
    "print(\"Accuracy: %.2f%%\" % (accuracy * 100.0))\n",
    "print(\"Weighted Accuracy: %.2f%%\" % (weightacc*100.0))"
   ]
  },
  {
   "cell_type": "markdown",
   "metadata": {},
   "source": [
    "# Naive Bayes Classification "
   ]
  },
  {
   "cell_type": "markdown",
   "metadata": {},
   "source": [
    "### Multinomial NB"
   ]
  },
  {
   "cell_type": "code",
   "execution_count": 48,
   "metadata": {},
   "outputs": [],
   "source": [
    "from sklearn.naive_bayes import MultinomialNB\n",
    "from sklearn.naive_bayes import GaussianNB\n",
    "from sklearn.model_selection import GridSearchCV\n",
    "from sklearn.pipeline import Pipeline"
   ]
  },
  {
   "cell_type": "code",
   "execution_count": 49,
   "metadata": {},
   "outputs": [],
   "source": [
    "mnb_pipeline = Pipeline([\n",
    "    ('mnb', MultinomialNB())])"
   ]
  },
  {
   "cell_type": "code",
   "execution_count": 50,
   "metadata": {},
   "outputs": [],
   "source": [
    "#Set parameters set\n",
    "grid_params = {\n",
    "  'mnb__alpha': np.linspace(0.5, 1.5, 6),\n",
    "  'mnb__fit_prior': [True, False],  \n",
    "}"
   ]
  },
  {
   "cell_type": "code",
   "execution_count": 51,
   "metadata": {},
   "outputs": [
    {
     "name": "stdout",
     "output_type": "stream",
     "text": [
      "Best Score:  0.7829988184416689\n",
      "Best Params:  {'mnb__alpha': 0.5, 'mnb__fit_prior': True}\n"
     ]
    },
    {
     "data": {
      "text/plain": [
       "<bound method BaseEstimator.get_params of GridSearchCV(cv=None, error_score='raise',\n",
       "       estimator=Pipeline(memory=None,\n",
       "     steps=[('mnb', MultinomialNB(alpha=1.0, class_prior=None, fit_prior=True))]),\n",
       "       fit_params=None, iid=True, n_jobs=1,\n",
       "       param_grid={'mnb__alpha': array([0.5, 0.7, 0.9, 1.1, 1.3, 1.5]), 'mnb__fit_prior': [True, False]},\n",
       "       pre_dispatch='2*n_jobs', refit=True, return_train_score='warn',\n",
       "       scoring=None, verbose=0)>"
      ]
     },
     "execution_count": 51,
     "metadata": {},
     "output_type": "execute_result"
    }
   ],
   "source": [
    "#Search for the best parameters combination using cross validation\n",
    "clf = GridSearchCV(mnb_pipeline, grid_params)\n",
    "clf.fit(X_train, y_train)\n",
    "print(\"Best Score: \", clf.best_score_)\n",
    "print(\"Best Params: \", clf.best_params_)\n",
    "clf.get_params"
   ]
  },
  {
   "cell_type": "code",
   "execution_count": 83,
   "metadata": {},
   "outputs": [
    {
     "name": "stdout",
     "output_type": "stream",
     "text": [
      "             precision    recall  f1-score   support\n",
      "\n",
      "     agreed       0.63      0.72      0.67     18707\n",
      "  disagreed       0.10      0.65      0.18      1682\n",
      "  unrelated       0.89      0.66      0.76     43722\n",
      "\n",
      "avg / total       0.80      0.68      0.72     64111\n",
      "\n",
      "[[13378  2290  3039]\n",
      " [  145  1089   448]\n",
      " [ 7698  7001 29023]]\n"
     ]
    }
   ],
   "source": [
    "predmulnb=[mapnumtolabel[x] for x in classify(clf.predict_proba(X_val))]\n",
    "print(classification_report(y_val,predmulnb))\n",
    "print(confusion_matrix(y_val,predmulnb))"
   ]
  },
  {
   "cell_type": "code",
   "execution_count": 53,
   "metadata": {},
   "outputs": [
    {
     "data": {
      "text/plain": [
       "Text(0.5,257.44,'Predicted label')"
      ]
     },
     "execution_count": 53,
     "metadata": {},
     "output_type": "execute_result"
    },
    {
     "data": {
      "image/png": "[encoded data removed]",
      "text/plain": [
       "<Figure size 432x288 with 2 Axes>"
      ]
     },
     "metadata": {},
     "output_type": "display_data"
    }
   ],
   "source": [
    "fig, ax = plt.subplots()\n",
    "sns.heatmap(pd.DataFrame(confusion_matrix(y_val,predmulnb)), annot=True, cmap=\"YlGnBu\" ,fmt='g')\n",
    "ax.xaxis.set_label_position(\"top\")\n",
    "ax.set_xticks([0.5,1.5,2.5])\n",
    "ax.set_yticks([0.5,1.5,2.5])\n",
    "# ... and label them with the respective list entries\n",
    "ax.set_xticklabels(['agreed','disagreed','unrelated'])\n",
    "ax.set_yticklabels(['agreed','disagreed','unrelated'])\n",
    "plt.tight_layout()\n",
    "plt.title('Confusion matrix', y=1.1)\n",
    "plt.ylabel('Actual label')\n",
    "plt.xlabel('Predicted label')"
   ]
  },
  {
   "cell_type": "code",
   "execution_count": 126,
   "metadata": {},
   "outputs": [
    {
     "name": "stdout",
     "output_type": "stream",
     "text": [
      "Accuracy: 67.84%\n",
      "Weighted Accuracy: 69.32%\n"
     ]
    }
   ],
   "source": [
    "accuracy = accuracy_score(y_val,predmulnb)\n",
    "weightacc=weaccuracy(y_val,confusion_matrix(y_val,predmulnb),perct)\n",
    "print(\"Accuracy: %.2f%%\" % (accuracy * 100.0))\n",
    "print(\"Weighted Accuracy: %.2f%%\" % (weightacc* 100.0))"
   ]
  },
  {
   "cell_type": "markdown",
   "metadata": {},
   "source": [
    "### Gaussian NB"
   ]
  },
  {
   "cell_type": "code",
   "execution_count": 56,
   "metadata": {},
   "outputs": [
    {
     "data": {
      "text/plain": [
       "GaussianNB(priors=[0.68417292670144, 0.290040305473059, 0.02578676782550101])"
      ]
     },
     "execution_count": 56,
     "metadata": {},
     "output_type": "execute_result"
    }
   ],
   "source": [
    "clf1 = GaussianNB(priors=[0.68417292670144, 0.290040305473059, 0.02578676782550101])\n",
    "clf1.fit(X_train, y_train)"
   ]
  },
  {
   "cell_type": "code",
   "execution_count": 64,
   "metadata": {},
   "outputs": [
    {
     "name": "stdout",
     "output_type": "stream",
     "text": [
      "             precision    recall  f1-score   support\n",
      "\n",
      "     agreed       0.84      0.35      0.50     18707\n",
      "  disagreed       0.04      0.96      0.07      1682\n",
      "  unrelated       0.95      0.27      0.41     43722\n",
      "\n",
      "avg / total       0.89      0.31      0.43     64111\n",
      "\n",
      "[[ 6611 11509   587]\n",
      " [   23  1609    50]\n",
      " [ 1196 30917 11609]]\n"
     ]
    }
   ],
   "source": [
    "predgaunb=[mapnumtolabel[x] for x in classify(clf1.predict_proba(X_val))]\n",
    "print(classification_report(y_val,predgaunb))\n",
    "print(confusion_matrix(y_val,predgaunb))"
   ]
  },
  {
   "cell_type": "code",
   "execution_count": 65,
   "metadata": {},
   "outputs": [
    {
     "data": {
      "text/plain": [
       "Text(0.5,257.44,'Predicted label')"
      ]
     },
     "execution_count": 65,
     "metadata": {},
     "output_type": "execute_result"
    },
    {
     "data": {
      "image/png": "[encoded data removed]",
      "text/plain": [
       "<Figure size 432x288 with 2 Axes>"
      ]
     },
     "metadata": {},
     "output_type": "display_data"
    }
   ],
   "source": [
    "fig,ax=plt.subplots()\n",
    "sns.heatmap(pd.DataFrame(confusion_matrix(y_val,predgaunb)), annot=True, cmap=\"coolwarm_r\" ,fmt='g')\n",
    "ax.xaxis.set_label_position(\"top\")\n",
    "ax.set_xticks([0.5,1.5,2.5])\n",
    "ax.set_yticks([0.5,1.5,2.5])\n",
    "# ... and label them with the respective list entries\n",
    "ax.set_xticklabels(['agreed','disagreed','unrelated'])\n",
    "ax.set_yticklabels(['agreed','disagreed','unrelated'])\n",
    "plt.tight_layout()\n",
    "plt.title('Confusion matrix', y=1.1)\n",
    "plt.ylabel('Actual label')\n",
    "plt.xlabel('Predicted label')"
   ]
  },
  {
   "cell_type": "code",
   "execution_count": 127,
   "metadata": {},
   "outputs": [
    {
     "name": "stdout",
     "output_type": "stream",
     "text": [
      "Accuracy: 30.93%\n",
      "Weighted Accuracy: 35.00%\n"
     ]
    }
   ],
   "source": [
    "accuracy = accuracy_score(y_val,predgaunb)\n",
    "weightacc=weaccuracy(y_val,confusion_matrix(y_val,predgaunb),perct)\n",
    "print(\"Accuracy: %.2f%%\" % (accuracy * 100.0))\n",
    "print(\"Weighted Accuracy: %.2f%%\" % (weightacc* 100.0))"
   ]
  },
  {
   "cell_type": "markdown",
   "metadata": {},
   "source": [
    "## Logistic Regression"
   ]
  },
  {
   "cell_type": "code",
   "execution_count": 67,
   "metadata": {},
   "outputs": [],
   "source": [
    "from sklearn.linear_model import LogisticRegression"
   ]
  },
  {
   "cell_type": "code",
   "execution_count": 68,
   "metadata": {},
   "outputs": [],
   "source": [
    "lr_pipeline = Pipeline([('lr', LogisticRegression())])"
   ]
  },
  {
   "cell_type": "code",
   "execution_count": 69,
   "metadata": {},
   "outputs": [
    {
     "name": "stderr",
     "output_type": "stream",
     "text": [
      "C:\\Users\\user\\Anaconda3\\lib\\site-packages\\scipy\\optimize\\linesearch.py:313: LineSearchWarning: The line search algorithm did not converge\n",
      "  warn('The line search algorithm did not converge', LineSearchWarning)\n",
      "C:\\Users\\user\\Anaconda3\\lib\\site-packages\\sklearn\\utils\\optimize.py:195: UserWarning: Line Search failed\n",
      "  warnings.warn('Line Search failed')\n",
      "C:\\Users\\user\\Anaconda3\\lib\\site-packages\\sklearn\\linear_model\\sag.py:326: ConvergenceWarning: The max_iter was reached which means the coef_ did not converge\n",
      "  \"the coef_ did not converge\", ConvergenceWarning)\n",
      "C:\\Users\\user\\Anaconda3\\lib\\site-packages\\sklearn\\linear_model\\sag.py:326: ConvergenceWarning: The max_iter was reached which means the coef_ did not converge\n",
      "  \"the coef_ did not converge\", ConvergenceWarning)\n",
      "C:\\Users\\user\\Anaconda3\\lib\\site-packages\\sklearn\\linear_model\\sag.py:326: ConvergenceWarning: The max_iter was reached which means the coef_ did not converge\n",
      "  \"the coef_ did not converge\", ConvergenceWarning)\n",
      "C:\\Users\\user\\Anaconda3\\lib\\site-packages\\sklearn\\linear_model\\sag.py:326: ConvergenceWarning: The max_iter was reached which means the coef_ did not converge\n",
      "  \"the coef_ did not converge\", ConvergenceWarning)\n",
      "C:\\Users\\user\\Anaconda3\\lib\\site-packages\\sklearn\\linear_model\\sag.py:326: ConvergenceWarning: The max_iter was reached which means the coef_ did not converge\n",
      "  \"the coef_ did not converge\", ConvergenceWarning)\n",
      "C:\\Users\\user\\Anaconda3\\lib\\site-packages\\sklearn\\linear_model\\sag.py:326: ConvergenceWarning: The max_iter was reached which means the coef_ did not converge\n",
      "  \"the coef_ did not converge\", ConvergenceWarning)\n",
      "C:\\Users\\user\\Anaconda3\\lib\\site-packages\\sklearn\\linear_model\\sag.py:326: ConvergenceWarning: The max_iter was reached which means the coef_ did not converge\n",
      "  \"the coef_ did not converge\", ConvergenceWarning)\n",
      "C:\\Users\\user\\Anaconda3\\lib\\site-packages\\sklearn\\linear_model\\sag.py:326: ConvergenceWarning: The max_iter was reached which means the coef_ did not converge\n",
      "  \"the coef_ did not converge\", ConvergenceWarning)\n",
      "C:\\Users\\user\\Anaconda3\\lib\\site-packages\\sklearn\\linear_model\\sag.py:326: ConvergenceWarning: The max_iter was reached which means the coef_ did not converge\n",
      "  \"the coef_ did not converge\", ConvergenceWarning)\n",
      "C:\\Users\\user\\Anaconda3\\lib\\site-packages\\sklearn\\linear_model\\sag.py:326: ConvergenceWarning: The max_iter was reached which means the coef_ did not converge\n",
      "  \"the coef_ did not converge\", ConvergenceWarning)\n",
      "C:\\Users\\user\\Anaconda3\\lib\\site-packages\\sklearn\\linear_model\\sag.py:326: ConvergenceWarning: The max_iter was reached which means the coef_ did not converge\n",
      "  \"the coef_ did not converge\", ConvergenceWarning)\n",
      "C:\\Users\\user\\Anaconda3\\lib\\site-packages\\scipy\\optimize\\linesearch.py:313: LineSearchWarning: The line search algorithm did not converge\n",
      "  warn('The line search algorithm did not converge', LineSearchWarning)\n",
      "C:\\Users\\user\\Anaconda3\\lib\\site-packages\\sklearn\\utils\\optimize.py:195: UserWarning: Line Search failed\n",
      "  warnings.warn('Line Search failed')\n",
      "C:\\Users\\user\\Anaconda3\\lib\\site-packages\\sklearn\\linear_model\\sag.py:326: ConvergenceWarning: The max_iter was reached which means the coef_ did not converge\n",
      "  \"the coef_ did not converge\", ConvergenceWarning)\n",
      "C:\\Users\\user\\Anaconda3\\lib\\site-packages\\sklearn\\linear_model\\sag.py:326: ConvergenceWarning: The max_iter was reached which means the coef_ did not converge\n",
      "  \"the coef_ did not converge\", ConvergenceWarning)\n",
      "C:\\Users\\user\\Anaconda3\\lib\\site-packages\\sklearn\\linear_model\\sag.py:326: ConvergenceWarning: The max_iter was reached which means the coef_ did not converge\n",
      "  \"the coef_ did not converge\", ConvergenceWarning)\n",
      "C:\\Users\\user\\Anaconda3\\lib\\site-packages\\sklearn\\linear_model\\sag.py:326: ConvergenceWarning: The max_iter was reached which means the coef_ did not converge\n",
      "  \"the coef_ did not converge\", ConvergenceWarning)\n",
      "C:\\Users\\user\\Anaconda3\\lib\\site-packages\\sklearn\\linear_model\\sag.py:326: ConvergenceWarning: The max_iter was reached which means the coef_ did not converge\n",
      "  \"the coef_ did not converge\", ConvergenceWarning)\n",
      "C:\\Users\\user\\Anaconda3\\lib\\site-packages\\sklearn\\linear_model\\sag.py:326: ConvergenceWarning: The max_iter was reached which means the coef_ did not converge\n",
      "  \"the coef_ did not converge\", ConvergenceWarning)\n",
      "C:\\Users\\user\\Anaconda3\\lib\\site-packages\\sklearn\\linear_model\\sag.py:326: ConvergenceWarning: The max_iter was reached which means the coef_ did not converge\n",
      "  \"the coef_ did not converge\", ConvergenceWarning)\n"
     ]
    },
    {
     "data": {
      "text/plain": [
       "GridSearchCV(cv=None, error_score='raise',\n",
       "       estimator=Pipeline(memory=None,\n",
       "     steps=[('lr', LogisticRegression(C=1.0, class_weight=None, dual=False, fit_intercept=True,\n",
       "          intercept_scaling=1, max_iter=100, multi_class='ovr', n_jobs=1,\n",
       "          penalty='l2', random_state=None, solver='liblinear', tol=0.0001,\n",
       "          verbose=0, warm_start=False))]),\n",
       "       fit_params=None, iid=True, n_jobs=1,\n",
       "       param_grid={'lr__penalty': ['l2'], 'lr__C': [1, 5, 10], 'lr__max_iter': [100], 'lr__multi_class': ['ovr', 'multinomial'], 'lr__class_weight': ['balanced'], 'lr__solver': ['newton-cg', 'lbfgs', 'sag']},\n",
       "       pre_dispatch='2*n_jobs', refit=True, return_train_score='warn',\n",
       "       scoring=None, verbose=0)"
      ]
     },
     "execution_count": 69,
     "metadata": {},
     "output_type": "execute_result"
    }
   ],
   "source": [
    "#Search for the best parameters combination using cross validation\n",
    "grid_params = {\n",
    "  'lr__penalty': ['l2'],\n",
    "  'lr__C': [1, 5, 10],\n",
    "  'lr__max_iter': [100],\n",
    "  'lr__multi_class':['ovr', 'multinomial'],\n",
    "  'lr__class_weight':['balanced'],\n",
    "  'lr__solver':['newton-cg','lbfgs','sag'] \n",
    "}\n",
    "clf2 = GridSearchCV(lr_pipeline, grid_params)\n",
    "clf2.fit(X_train, y_train)"
   ]
  },
  {
   "cell_type": "code",
   "execution_count": 70,
   "metadata": {},
   "outputs": [
    {
     "name": "stdout",
     "output_type": "stream",
     "text": [
      "Best Score:  0.7399791764967381\n",
      "Best Params:  {'lr__C': 1, 'lr__class_weight': 'balanced', 'lr__max_iter': 100, 'lr__multi_class': 'ovr', 'lr__penalty': 'l2', 'lr__solver': 'sag'}\n"
     ]
    }
   ],
   "source": [
    "print(\"Best Score: \", clf2.best_score_)\n",
    "print(\"Best Params: \", clf2.best_params_)"
   ]
  },
  {
   "cell_type": "code",
   "execution_count": 71,
   "metadata": {},
   "outputs": [
    {
     "data": {
      "text/plain": [
       "array([[0.30047621, 0.18529451, 0.51422928],\n",
       "       [0.29949319, 0.18677592, 0.5137309 ],\n",
       "       [0.02494365, 0.25234928, 0.72270707]])"
      ]
     },
     "execution_count": 71,
     "metadata": {},
     "output_type": "execute_result"
    }
   ],
   "source": [
    "clf2.predict_proba(X_val)[0:3]"
   ]
  },
  {
   "cell_type": "code",
   "execution_count": 75,
   "metadata": {},
   "outputs": [
    {
     "name": "stdout",
     "output_type": "stream",
     "text": [
      "             precision    recall  f1-score   support\n",
      "\n",
      "     agreed       0.60      0.83      0.70     18707\n",
      "  disagreed       0.25      0.51      0.33      1682\n",
      "  unrelated       0.89      0.71      0.79     43722\n",
      "\n",
      "avg / total       0.79      0.74      0.75     64111\n",
      "\n",
      "[[15530    47  3130]\n",
      " [  201   858   623]\n",
      " [10167  2557 30998]]\n"
     ]
    }
   ],
   "source": [
    "predlogit=[mapnumtolabel[x] for x in clf2.predict(X_val)]\n",
    "print(classification_report(y_val,predlogit))\n",
    "print(confusion_matrix(y_val,predlogit))"
   ]
  },
  {
   "cell_type": "code",
   "execution_count": 76,
   "metadata": {},
   "outputs": [
    {
     "data": {
      "text/plain": [
       "Text(0.5,257.44,'Predicted label')"
      ]
     },
     "execution_count": 76,
     "metadata": {},
     "output_type": "execute_result"
    },
    {
     "data": {
      "image/png": "[encoded data removed]",
      "text/plain": [
       "<Figure size 432x288 with 2 Axes>"
      ]
     },
     "metadata": {},
     "output_type": "display_data"
    }
   ],
   "source": [
    "fig,ax=plt.subplots()\n",
    "sns.heatmap(pd.DataFrame(confusion_matrix(y_val,predlogit)), annot=True, cmap=\"coolwarm_r\" ,fmt='g')\n",
    "ax.xaxis.set_label_position(\"top\")\n",
    "# ... and label them with the respective list entries\n",
    "ax.set_xticklabels(['agreed','disagreed','unrelated'])\n",
    "ax.set_yticklabels(['agreed','disagreed','unrelated'])\n",
    "plt.tight_layout()\n",
    "plt.title('Confusion matrix', y=1.1)\n",
    "plt.ylabel('Actual label')\n",
    "plt.xlabel('Predicted label')"
   ]
  },
  {
   "cell_type": "code",
   "execution_count": 129,
   "metadata": {},
   "outputs": [
    {
     "name": "stdout",
     "output_type": "stream",
     "text": [
      "Accuracy: 73.91%\n",
      "Weighted Accuracy: 74.42%\n"
     ]
    }
   ],
   "source": [
    "accuracy = accuracy_score(y_val,predlogit)\n",
    "weightacc=weaccuracy(y_val,confusion_matrix(y_val,predlogit),perct)\n",
    "print(\"Accuracy: %.2f%%\" % (accuracy * 100.0))\n",
    "print(\"Weighted Accuracy: %.2f%%\" % (weightacc* 100.0))"
   ]
  }
 ],
 "metadata": {
  "kernelspec": {
   "display_name": "Python 3",
   "language": "python",
   "name": "python3"
  },
  "language_info": {
   "codemirror_mode": {
    "name": "ipython",
    "version": 3
   },
   "file_extension": ".py",
   "mimetype": "text/x-python",
   "name": "python",
   "nbconvert_exporter": "python",
   "pygments_lexer": "ipython3",
   "version": "3.6.5"
  }
 },
 "nbformat": 4,
 "nbformat_minor": 2
}