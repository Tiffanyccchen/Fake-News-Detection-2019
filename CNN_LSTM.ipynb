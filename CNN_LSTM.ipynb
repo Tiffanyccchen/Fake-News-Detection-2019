{
 "cells": [
  {
   "cell_type": "code",
   "execution_count": 0,
   "metadata": {
    "colab": {},
    "colab_type": "code",
    "id": "VJ0P0PrTXEl5"
   },
   "outputs": [],
   "source": [
    "import numpy as np\n",
    "import pandas as pd\n",
    "import matplotlib.pyplot as plt\n",
    "import seaborn as sns\n",
    "%matplotlib inline"
   ]
  },
  {
   "cell_type": "code",
   "execution_count": 0,
   "metadata": {
    "colab": {},
    "colab_type": "code",
    "id": "WVQhdlkYv6tT"
   },
   "outputs": [],
   "source": [
    "data = pd.read_csv('udn2yrsnews_monpa.csv',encoding='utf-8').astype(str)\n",
    "data.head()"
   ]
  },
  {
   "cell_type": "markdown",
   "metadata": {
    "colab_type": "text",
    "id": "1HZW2HrhwXWR"
   },
   "source": [
    "# Tokenizing & Padding Sequence"
   ]
  },
  {
   "cell_type": "code",
   "execution_count": 0,
   "metadata": {
    "colab": {},
    "colab_type": "code",
    "id": "ezDjOwfWv9h4"
   },
   "outputs": [],
   "source": [
    "import keras\n",
    "from keras.preprocessing.sequence import pad_sequences"
   ]
  },
  {
   "cell_type": "code",
   "execution_count": 0,
   "metadata": {
    "colab": {},
    "colab_type": "code",
    "id": "ePr8bSklv_Vv"
   },
   "outputs": [],
   "source": [
    "data['merge']=data.apply(lambda row:row['title']+\" \"+row['document'],axis=1)"
   ]
  },
  {
   "cell_type": "code",
   "execution_count": 0,
   "metadata": {
    "colab": {},
    "colab_type": "code",
    "id": "brE3UuiQwDI8"
   },
   "outputs": [],
   "source": [
    "#Configure Tokenizer\n",
    "MAX_NUM_WORDS = 100000\n",
    "MAX_SEQUENCE_LENGTH = 240\n",
    "tokenizer = keras.preprocessing.text.Tokenizer(num_words=MAX_NUM_WORDS)\n",
    "\n",
    "X=np.random.permutation(data[['category','merge']])\n",
    "y=X[:,0]\n",
    "X=X[:,1]\n",
    "\n",
    "lenX_train=list(map(lambda x:len(x),X))\n",
    "np.average(lenX_train)"
   ]
  },
  {
   "cell_type": "code",
   "execution_count": 0,
   "metadata": {
    "colab": {},
    "colab_type": "code",
    "id": "hb30N7ZkwDdF"
   },
   "outputs": [],
   "source": [
    "from sklearn.model_selection import KFold,cross_validate"
   ]
  },
  {
   "cell_type": "code",
   "execution_count": 0,
   "metadata": {
    "colab": {},
    "colab_type": "code",
    "id": "F1k6QLDywBH0"
   },
   "outputs": [],
   "source": [
    "X_cross=[]\n",
    "Xtest_cross=[]\n",
    "kf = KFold(n_splits=10)\n",
    "\n",
    "for train, test in kf.split(X):\n",
    "    X_train=X[train]\n",
    "    tokenizer.fit_on_texts(X_train)\n",
    "    X_trainseq = tokenizer.texts_to_sequences(X_train)\n",
    "    X_trainpad = keras.preprocessing.sequence.pad_sequences(X_trainseq,maxlen=MAX_SEQUENCE_LENGTH)\n",
    "    \n",
    "    X_test=X[test]\n",
    "    X_testseq = tokenizer.texts_to_sequences(X_test)\n",
    "    X_testpad = keras.preprocessing.sequence.pad_sequences(X_testseq,maxlen=MAX_SEQUENCE_LENGTH)\n",
    "    \n",
    "    X_cross.append(X_trainpad)\n",
    "    Xtest_cross.append(X_testpad)"
   ]
  },
  {
   "cell_type": "code",
   "execution_count": 0,
   "metadata": {
    "colab": {},
    "colab_type": "code",
    "id": "ML2_8GtHwINJ"
   },
   "outputs": [],
   "source": [
    "y_to_num = dict(zip(set(y), range(17)))\n",
    "print(y_to_num)\n",
    "y_num=[y_to_num[x] for x in y]\n",
    "y_num=np.array(y_num)"
   ]
  },
  {
   "cell_type": "code",
   "execution_count": 0,
   "metadata": {
    "colab": {},
    "colab_type": "code",
    "id": "H0NC9f3TwLo-"
   },
   "outputs": [],
   "source": [
    "y_cross=[]\n",
    "ytest_cross=[]\n",
    "yeval_cross=[]\n",
    "\n",
    "for train, test in kf.split(X):\n",
    "    y_train=y_num[train]\n",
    "    y_test=y_num[test]\n",
    "    \n",
    "    y_traincat = keras.utils.to_categorical(y_train)\n",
    "    y_testcat = keras.utils.to_categorical(y_test)\n",
    "    \n",
    "    y_cross.append(y_traincat)\n",
    "    ytest_cross.append(y_testcat)\n",
    "    \n",
    "    yeval_cross.append(y_test)"
   ]
  },
  {
   "cell_type": "markdown",
   "metadata": {
    "colab_type": "text",
    "id": "XWIMR_J2wgwe"
   },
   "source": [
    "# Model"
   ]
  },
  {
   "cell_type": "code",
   "execution_count": 1,
   "metadata": {
    "colab": {
     "base_uri": "https://localhost:8080/",
     "height": 34
    },
    "colab_type": "code",
    "executionInfo": {
     "elapsed": 2657,
     "status": "ok",
     "timestamp": 1564991565125,
     "user": {
      "displayName": "chen tiffany",
      "photoUrl": "https://lh5.googleusercontent.com/-DR-bz3EyZAo/AAAAAAAAAAI/AAAAAAAAHn0/d84jx3hh2o4/s64/photo.jpg",
      "userId": "10637760375624784448"
     },
     "user_tz": -480
    },
    "id": "dv9nKjWGwkGQ",
    "outputId": "db0d9f05-a80f-42ae-a297-d434c59474c2"
   },
   "outputs": [
    {
     "name": "stderr",
     "output_type": "stream",
     "text": [
      "Using TensorFlow backend.\n"
     ]
    }
   ],
   "source": [
    "from keras import Input\n",
    "from keras.layers import Embedding,MaxPooling1D, Conv1D,LSTM,Dense,BatchNormalization,Dropout,Lambda,TimeDistributed,Flatten\n",
    "from keras.models import Model,Sequential\n",
    "from keras.layers.merge import Concatenate\n",
    "from keras import backend as K\n",
    "\n",
    "from keras.optimizers import Adam\n",
    "from keras.callbacks import ModelCheckpoint"
   ]
  },
  {
   "cell_type": "code",
   "execution_count": 0,
   "metadata": {
    "colab": {},
    "colab_type": "code",
    "id": "_GVIbdj1wlkW"
   },
   "outputs": [],
   "source": [
    "# 基本參數設置，有幾個分類\n",
    "NUM_CLASSES = 17\n",
    "\n",
    "# 在語料庫裡有多少詞彙\n",
    "MAX_NUM_WORDS = 100000\n",
    "\n",
    "# 一個標題最長有幾個詞彙\n",
    "MAX_SEQUENCE_LENGTH = 240\n",
    "\n",
    "# 一個詞向量的維度\n",
    "NUM_EMBEDDING_DIM = 256\n",
    "\n",
    "# LSTM 輸出的向量維度\n",
    "NUM_LSTM_UNITS = 128\n",
    "\n",
    "# Convolution\n",
    "filters1 = 32\n",
    "kernel_size1 = 5\n",
    "\n",
    "filters2 = 64\n",
    "kernel_size2 = 3\n",
    "\n",
    "pool_size = 2\n",
    "\n",
    "# Training\n",
    "batch_size = 500\n",
    "epochs = 3"
   ]
  },
  {
   "cell_type": "code",
   "execution_count": 0,
   "metadata": {
    "colab": {},
    "colab_type": "code",
    "id": "BeARE9Fgwnuu"
   },
   "outputs": [],
   "source": [
    "model = Sequential()\n",
    "model.add(Embedding(MAX_NUM_WORDS,NUM_EMBEDDING_DIM , input_length=MAX_SEQUENCE_LENGTH))\n",
    "\n",
    "model.add(Conv1D(filters1,\n",
    "                 kernel_size1,\n",
    "                 padding='same',\n",
    "                 activation='relu',\n",
    "                 strides=1))\n",
    "model.add(MaxPooling1D(pool_size=pool_size))\n",
    "\n",
    "model.add(Conv1D(filters2,\n",
    "                 kernel_size2,\n",
    "                 padding='same',\n",
    "                 activation='relu',\n",
    "                 strides=1))\n",
    "model.add(MaxPooling1D(pool_size=pool_size))\n",
    "\n",
    "\n",
    "model.add(LSTM(NUM_LSTM_UNITS,input_shape=(MAX_SEQUENCE_LENGTH , NUM_EMBEDDING_DIM)))\n",
    "\n",
    "model.add(Dropout(0.25))\n",
    "model.add(BatchNormalization())\n",
    "model.add(Dense(units=300,activation='relu'))\n",
    "\n",
    "\n",
    "model.add(Dropout(0.25))\n",
    "model.add(BatchNormalization())\n",
    "model.add(Dense(units=NUM_CLASSES,activation='softmax'))\n",
    "\n",
    "model.compile(loss='categorical_crossentropy',\n",
    "              optimizer='adam',\n",
    "              metrics=['accuracy'])\n",
    "\n",
    "#model.fit(X_cross[0], y_cross[0],\n",
    "         # batch_size=batch_size,\n",
    "          #epochs=epochs)"
   ]
  },
  {
   "cell_type": "code",
   "execution_count": 0,
   "metadata": {
    "colab": {},
    "colab_type": "code",
    "id": "hXO3UrBOwvAK"
   },
   "outputs": [],
   "source": [
    "from sklearn import metrics\n",
    "from sklearn.metrics import classification_report,confusion_matrix,accuracy_score,precision_score,recall_score,f1_score"
   ]
  },
  {
   "cell_type": "code",
   "execution_count": 0,
   "metadata": {
    "colab": {},
    "colab_type": "code",
    "id": "Max5_5U5wwpV"
   },
   "outputs": [],
   "source": [
    "expectedlstmcnn=[]\n",
    "predictedlstmcnn=[]\n",
    "\n",
    "for i in range(10):\n",
    "    X_train=X_cross[i]\n",
    "    X_test=Xtest_cross[i]\n",
    "    y_train=y_cross[i]\n",
    "    y_test=yeval_cross[i]\n",
    "    \n",
    "    lstmcnn=model.fit(X_train, y_train,batch_size=batch_size,epochs=epochs)\n",
    "    ypred=model.predict_classes(X_test)\n",
    "\n",
    "    expectedlstmcnn.extend(y_test)\n",
    "    predictedlstmcnn.extend(ypred)"
   ]
  },
  {
   "cell_type": "code",
   "execution_count": 0,
   "metadata": {
    "colab": {},
    "colab_type": "code",
    "id": "mNPoeJVtwy8Q"
   },
   "outputs": [],
   "source": [
    "print(\"Macro-average: {0:.2f},{1:.2f},{2:.2f}\".format(metrics.precision_score(expectedlstmcnn, predictedlstmcnn, average='macro'),metrics.recall_score(expectedlstmcnn, predictedlstmcnn, average='macro'),metrics.f1_score(expectedlstmcnn, predictedlstmcnn, average='macro')))\n",
    "print(\"Micro-average: {0:.2f},{1:.2f},{2:.2f}\".format(metrics.precision_score(expectedlstmcnn, predictedlstmcnn, average='micro'),metrics.recall_score(expectedlstmcnn, predictedlstmcnn, average='micro'),metrics.f1_score(expectedlstmcnn, predictedlstmcnn, average='micro')))\n",
    "print(\"Weighted-average: {0:.2f},{1:.2f},{2:.2f}\".format(metrics.precision_score(expectedlstmcnn, predictedlstmcnn, average='weighted'),metrics.recall_score(expectedlstmcnn, predictedlstmcnn, average='weighted'),metrics.f1_score(expectedlstmcnn, predictedlstmcnn, average='weighted')))"
   ]
  }
 ],
 "metadata": {
  "colab": {
   "name": "CNN_LSTM.ipynb",
   "provenance": [],
   "version": "0.3.2"
  },
  "kernelspec": {
   "display_name": "Python 3",
   "language": "python",
   "name": "python3"
  },
  "language_info": {
   "codemirror_mode": {
    "name": "ipython",
    "version": 3
   },
   "file_extension": ".py",
   "mimetype": "text/x-python",
   "name": "python",
   "nbconvert_exporter": "python",
   "pygments_lexer": "ipython3",
   "version": "3.6.5"
  }
 },
 "nbformat": 4,
 "nbformat_minor": 1
}